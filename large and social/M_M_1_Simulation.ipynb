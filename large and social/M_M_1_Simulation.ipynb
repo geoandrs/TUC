{
 "cells": [
  {
   "cell_type": "code",
   "execution_count": 51,
   "id": "56616906",
   "metadata": {},
   "outputs": [],
   "source": [
    "import numpy as np\n",
    "import pandas as pd\n",
    "import random\n",
    "import matplotlib.pyplot as plt\n",
    "import seaborn as sns\n",
    "sns.set()\n",
    "\n",
    "from IPython.display import Markdown"
   ]
  },
  {
   "cell_type": "code",
   "execution_count": 52,
   "id": "848d3c37",
   "metadata": {},
   "outputs": [],
   "source": [
    "TITLE_SIZE = 18\n",
    "\n",
    "#seeding\n",
    "rng = np.random.default_rng(42)"
   ]
  },
  {
   "cell_type": "markdown",
   "id": "aa0b4518",
   "metadata": {},
   "source": [
    "1 Simulation"
   ]
  },
  {
   "cell_type": "code",
   "execution_count": 71,
   "id": "20b7698f",
   "metadata": {},
   "outputs": [],
   "source": [
    "# n = number of jobs \n",
    "# μ = mean_service_rate\n",
    "def run_sim_and_plot(n, mean_service_rate):\n",
    "    \n",
    "    #contains all E[T] from the simulation\n",
    "    sim_mean_response_times = [None] * 9\n",
    "    \n",
    "    #contains all lamdas derived from the simulation\n",
    "    sim_mean_arrival_rates = [None] * 9\n",
    "    \n",
    "    #contains all theoretical E[T]\n",
    "    th_mean_response_times = [None] * 9\n",
    "    \n",
    "    #contains all theoretical lamdas\n",
    "    th_mean_arrival_rates = [None] * 9\n",
    "    \n",
    "    #runs the simulation 9 times with utilization equal to 0.1, 0.2, ... , 0.9\n",
    "    for i in range(1,10):\n",
    "        #returns a dictionary with: number of jobs, μ, λ, 1/λ, 1/μ\n",
    "        params = build_params(n, mean_service_rate*(i/10), mean_service_rate)\n",
    "        #prints the params dictionary using Markdown \n",
    "        display(Markdown(\n",
    "            f\"### Simulation: n={n}, \" +\n",
    "            f\"$\\lambda$={format(params['mean_arrival_rate'])}, \" +\n",
    "            f\"$\\mu$={format(params['mean_service_rate'])}, \" +\n",
    "            f\"$1/\\lambda$={format(params['mean_interarrival_time'])}, \" +\n",
    "            f\"$1/\\mu$={format(params['mean_service_time'])}\"\n",
    "        ))\n",
    "        #returns simulation params such as the E[T] and the calculated lamda\n",
    "        result = run_sim(params)\n",
    "        \n",
    "        sim_mean_response_times[i-1] = result[\"response_time_mean\"]\n",
    "        sim_mean_arrival_rates[i-1] = result[\"mean_arrival_rate\"]\n",
    "        \n",
    "        #Ε[Τ] = Ε[Ν]/λ = 1/(μ-λ)\n",
    "        th_mean_arrival_rates[i-1] = mean_service_rate*(i/10)\n",
    "        th_mean_response_times[i-1] = 1/(mean_service_rate-th_mean_arrival_rates[i-1])\n",
    "        \n",
    "        dump_stats(result)\n",
    "    #plots E[T] as a function of lamda for theoretical and simulated M/M/1's    \n",
    "    plot_response_per_lamda(sim_mean_response_times, sim_mean_arrival_rates, th_mean_response_times, th_mean_arrival_rates)\n",
    "\n",
    "#builds the param dictionary\n",
    "def build_params(num_jobs, mean_arrival_rate, mean_service_rate):\n",
    "    return {\n",
    "        \"n\": num_jobs,\n",
    "        \"mean_arrival_rate\": mean_arrival_rate,\n",
    "        \"mean_service_rate\": mean_service_rate,\n",
    "        \"mean_interarrival_time\": 1.0 / mean_arrival_rate,\n",
    "        \"mean_service_time\": 1.0 / mean_service_rate,\n",
    "    }\n",
    "#generates the jobs and their respective arrival, wait, service times using mean_interarrival_time and μ\n",
    "def run_sim(params):\n",
    "    #num of jobs\n",
    "    n = params[\"n\"]\n",
    "    \n",
    "    # Parameters\n",
    "    mean_interarrival_time = params[\"mean_interarrival_time\"]\n",
    "    mean_service_time = params[\"mean_service_time\"]\n",
    "    \n",
    "    # Simulation data and results\n",
    "    #generating interarrival times using exponential distribution (scale = 1/λ , where λ the rate of the exponential)\n",
    "    interarrival_times = rng.exponential(scale=mean_interarrival_time, size=n)\n",
    "    #arrival time of each job is the sum of all the previous interarrival times plus it's own interarrival time\n",
    "    arrival_times = np.cumsum(interarrival_times)\n",
    "    #service time μ follows exponential distribution with rate equal to μ\n",
    "    service_times = rng.exponential(scale=mean_service_time, size=n)\n",
    "    #now that we know when every job arrives and how much service time it needs we can find when they exit the queue \"start_time\"\n",
    "    #and when they get serviced and exit the system \"departure time\"\n",
    "    jobs_df = build_jobs_df(params, interarrival_times, arrival_times, service_times)\n",
    "    #total time (secs) needed to service all jobs\n",
    "    total_width = get_total_width(jobs_df)\n",
    "    \n",
    "    sim_mean_interarrival_time = jobs_df[\"interarrival_time\"].mean()\n",
    "    sim_mean_arrival_rate = 1.0 / sim_mean_interarrival_time\n",
    "    sim_mean_service_time = jobs_df[\"service_time\"].mean()\n",
    "    sim_mean_service_rate = 1.0 / sim_mean_service_time\n",
    "    sim_mean_wait_time = jobs_df[\"wait_time\"].mean()\n",
    "    sim_response_time_mean = jobs_df[\"response_time\"].mean()\n",
    "    sim_response_time_var = jobs_df[\"response_time\"].var()\n",
    "    \n",
    "    \n",
    "    \n",
    "    # utilization\n",
    "    util = estimate_util(jobs_df)\n",
    "    \n",
    "    return {\n",
    "        \"params\": params,\n",
    "        \"jobs_df\": jobs_df,\n",
    "        \"total_duration\": total_width,\n",
    "        \"mean_arrival_rate\": sim_mean_arrival_rate,\n",
    "        \"mean_interarrival_time\": sim_mean_interarrival_time,\n",
    "        \"mean_service_rate\": sim_mean_service_rate,\n",
    "        \"mean_service_time\": sim_mean_service_time,\n",
    "        \"mean_wait_time\": sim_mean_wait_time,\n",
    "        \"response_time_mean\": sim_response_time_mean,\n",
    "        \"utilization\": util,\n",
    "    }\n",
    "\n",
    "def build_jobs_df(params, interarrival_times, arrival_times, service_times):    \n",
    "    n = params[\"n\"]\n",
    "    \n",
    "    #jobs dataframe\n",
    "    jobs_df = pd.DataFrame({\n",
    "        \"interarrival_time\": interarrival_times,\n",
    "        \"arrive_time\": arrival_times,\n",
    "        \"service_time\": service_times,\n",
    "        \"start_time\": np.zeros(n),\n",
    "        \"depart_time\": np.zeros(n)\n",
    "    })\n",
    "    \n",
    "    #first job gets serviced upon it's arrival time\n",
    "    jobs_df.loc[0, \"start_time\"] = jobs_df.loc[0, \"arrive_time\"]\n",
    "    #departs after it get's serviced\n",
    "    jobs_df.loc[0, \"depart_time\"] = jobs_df.loc[0, \"start_time\"] + jobs_df.loc[0, \"service_time\"]\n",
    "    \n",
    "    #Every job arrives at the \"Queue\" upon arrival time and gets serviced when all the jobs that are already in queue get serviced\n",
    "    #next job get's serviced upon arrival if queue is empty or when the previous job that is currently being serviced finishes\n",
    "    for i in range(1, n):\n",
    "        jobs_df.loc[i, \"start_time\"] = max(jobs_df.loc[i, \"arrive_time\"], jobs_df.loc[i-1, \"depart_time\"])\n",
    "        jobs_df.loc[i, \"depart_time\"] = jobs_df.loc[i, \"start_time\"] + jobs_df.loc[i, \"service_time\"]\n",
    "    \n",
    "    #response time for each job is equal to queueing time plus service time or the time from when it arrives to the system\n",
    "    #until it gets serviced\n",
    "    jobs_df[\"response_time\"] = jobs_df[\"depart_time\"] - jobs_df[\"arrive_time\"]\n",
    "    jobs_df[\"wait_time\"] = jobs_df[\"start_time\"] - jobs_df[\"arrive_time\"]\n",
    "        \n",
    "    return jobs_df\n",
    "\n",
    "\n",
    "#total time system is active is equal to the time that last job finishes minus the arrival time of the 1st job in the system\n",
    "def get_total_width(jobs_df):\n",
    "    return jobs_df.iloc[-1][\"depart_time\"] - jobs_df.iloc[0][\"arrive_time\"]\n",
    "\n",
    "#calculates utilization of the system: time the system services jobs / total simulation time\n",
    "def estimate_util(jobs_df):\n",
    "    busy = (jobs_df[\"depart_time\"] - jobs_df[\"start_time\"]).sum()\n",
    "    return busy / get_total_width(jobs_df)"
   ]
  },
  {
   "cell_type": "code",
   "execution_count": 72,
   "id": "146330ac",
   "metadata": {},
   "outputs": [],
   "source": [
    "# STATS DUMPS\n",
    "\n",
    "def format(value):\n",
    "    return f\"{value:,.4f}\"\n",
    "\n",
    "#prints usefull information\n",
    "def dump_stats(result):\n",
    "    params = result[\"params\"]\n",
    "    jobs_df = result[\"jobs_df\"]\n",
    "    response_time = jobs_df[\"response_time\"]\n",
    "    arrival_rate_mean = result[\"mean_arrival_rate\"]\n",
    "    service_rate_mean = result[\"mean_service_rate\"]\n",
    "    service_time_mean = result[\"mean_service_time\"]\n",
    "    response_time_mean = result[\"response_time_mean\"]\n",
    "    util = result[\"utilization\"]\n",
    "    \n",
    "    print(\"Simulation statistics\")\n",
    "    print(\"---------------------\")\n",
    "    print(\"total_duration          = \" + format(result['total_duration']))\n",
    "    print(\"arrival_rate_mean       = \" + format(arrival_rate_mean))\n",
    "    print(\"interarrival_time_mean  = \" + format(result['mean_interarrival_time']))\n",
    "    # Note: E[response_time] = E[wait_time] + E[service_time]\n",
    "    print(\"response_time\")\n",
    "    print(\"  mean                  = \" + format(response_time_mean))\n",
    "    print(\"wait_time_mean          = \" + format(result['mean_wait_time']))\n",
    "    print(\"service_rate_mean       = \" + format(service_rate_mean))\n",
    "    print(\"service_time_mean       = \" + format(service_time_mean))\n",
    "    print(\"utilization             = \" + format(util))"
   ]
  },
  {
   "cell_type": "code",
   "execution_count": 75,
   "id": "a81ca369",
   "metadata": {},
   "outputs": [],
   "source": [
    "# PLOTTING FUNCTIONS\n",
    "#plots E[T] as a function of lamda for Theoretical and Simulation Values\n",
    "def plot_response_per_lamda(sim_mean_response_times, sim_mean_arrival_rates, th_mean_response_times, th_mean_arrival_rates):\n",
    "    \n",
    "        \n",
    "    plt.figure(figsize=(14, 2))\n",
    "    plt.title(\"E[T] per Lamda\", size=TITLE_SIZE)\n",
    "    plt.xlabel(\"lamda\")\n",
    "    plt.ylabel(\"E[T]\")\n",
    "    plt.plot(th_mean_arrival_rates, th_mean_response_times, label=\"Theoretical\", color=\"red\")\n",
    "    plt.plot(sim_mean_arrival_rates, sim_mean_response_times, label=\"Simulation\", color=\"blue\")\n",
    "    plt.legend()\n",
    "    plt.show()"
   ]
  },
  {
   "cell_type": "code",
   "execution_count": 77,
   "id": "5020e605",
   "metadata": {},
   "outputs": [
    {
     "data": {
      "text/markdown": [
       "### Simulation: n=5000, $\\lambda$=0.0200, $\\mu$=0.2000, $1/\\lambda$=50.0000, $1/\\mu$=5.0000"
      ],
      "text/plain": [
       "<IPython.core.display.Markdown object>"
      ]
     },
     "metadata": {},
     "output_type": "display_data"
    },
    {
     "name": "stdout",
     "output_type": "stream",
     "text": [
      "Simulation statistics\n",
      "---------------------\n",
      "total_duration          = 246,677.8767\n",
      "arrival_rate_mean       = 0.0203\n",
      "interarrival_time_mean  = 49.3405\n",
      "response_time\n",
      "  mean                  = 5.3846\n",
      "wait_time_mean          = 0.5093\n",
      "service_rate_mean       = 0.2051\n",
      "service_time_mean       = 4.8753\n",
      "utilization             = 0.0988\n"
     ]
    },
    {
     "data": {
      "text/markdown": [
       "### Simulation: n=5000, $\\lambda$=0.0400, $\\mu$=0.2000, $1/\\lambda$=25.0000, $1/\\mu$=5.0000"
      ],
      "text/plain": [
       "<IPython.core.display.Markdown object>"
      ]
     },
     "metadata": {},
     "output_type": "display_data"
    },
    {
     "name": "stdout",
     "output_type": "stream",
     "text": [
      "Simulation statistics\n",
      "---------------------\n",
      "total_duration          = 128,949.2423\n",
      "arrival_rate_mean       = 0.0388\n",
      "interarrival_time_mean  = 25.7941\n",
      "response_time\n",
      "  mean                  = 6.1597\n",
      "wait_time_mean          = 1.1663\n",
      "service_rate_mean       = 0.2003\n",
      "service_time_mean       = 4.9934\n",
      "utilization             = 0.1936\n"
     ]
    },
    {
     "data": {
      "text/markdown": [
       "### Simulation: n=5000, $\\lambda$=0.0600, $\\mu$=0.2000, $1/\\lambda$=16.6667, $1/\\mu$=5.0000"
      ],
      "text/plain": [
       "<IPython.core.display.Markdown object>"
      ]
     },
     "metadata": {},
     "output_type": "display_data"
    },
    {
     "name": "stdout",
     "output_type": "stream",
     "text": [
      "Simulation statistics\n",
      "---------------------\n",
      "total_duration          = 84,642.2374\n",
      "arrival_rate_mean       = 0.0591\n",
      "interarrival_time_mean  = 16.9299\n",
      "response_time\n",
      "  mean                  = 7.0902\n",
      "wait_time_mean          = 2.1020\n",
      "service_rate_mean       = 0.2005\n",
      "service_time_mean       = 4.9883\n",
      "utilization             = 0.2947\n"
     ]
    },
    {
     "data": {
      "text/markdown": [
       "### Simulation: n=5000, $\\lambda$=0.0800, $\\mu$=0.2000, $1/\\lambda$=12.5000, $1/\\mu$=5.0000"
      ],
      "text/plain": [
       "<IPython.core.display.Markdown object>"
      ]
     },
     "metadata": {},
     "output_type": "display_data"
    },
    {
     "name": "stdout",
     "output_type": "stream",
     "text": [
      "Simulation statistics\n",
      "---------------------\n",
      "total_duration          = 63,375.8043\n",
      "arrival_rate_mean       = 0.0789\n",
      "interarrival_time_mean  = 12.6759\n",
      "response_time\n",
      "  mean                  = 8.4194\n",
      "wait_time_mean          = 3.4187\n",
      "service_rate_mean       = 0.2000\n",
      "service_time_mean       = 5.0007\n",
      "utilization             = 0.3945\n"
     ]
    },
    {
     "data": {
      "text/markdown": [
       "### Simulation: n=5000, $\\lambda$=0.1000, $\\mu$=0.2000, $1/\\lambda$=10.0000, $1/\\mu$=5.0000"
      ],
      "text/plain": [
       "<IPython.core.display.Markdown object>"
      ]
     },
     "metadata": {},
     "output_type": "display_data"
    },
    {
     "name": "stdout",
     "output_type": "stream",
     "text": [
      "Simulation statistics\n",
      "---------------------\n",
      "total_duration          = 48,450.6574\n",
      "arrival_rate_mean       = 0.1032\n",
      "interarrival_time_mean  = 9.6902\n",
      "response_time\n",
      "  mean                  = 11.0992\n",
      "wait_time_mean          = 5.9013\n",
      "service_rate_mean       = 0.1924\n",
      "service_time_mean       = 5.1979\n",
      "utilization             = 0.5364\n"
     ]
    },
    {
     "data": {
      "text/markdown": [
       "### Simulation: n=5000, $\\lambda$=0.1200, $\\mu$=0.2000, $1/\\lambda$=8.3333, $1/\\mu$=5.0000"
      ],
      "text/plain": [
       "<IPython.core.display.Markdown object>"
      ]
     },
     "metadata": {},
     "output_type": "display_data"
    },
    {
     "name": "stdout",
     "output_type": "stream",
     "text": [
      "Simulation statistics\n",
      "---------------------\n",
      "total_duration          = 41,766.4619\n",
      "arrival_rate_mean       = 0.1197\n",
      "interarrival_time_mean  = 8.3540\n",
      "response_time\n",
      "  mean                  = 12.4537\n",
      "wait_time_mean          = 7.3959\n",
      "service_rate_mean       = 0.1977\n",
      "service_time_mean       = 5.0577\n",
      "utilization             = 0.6055\n"
     ]
    },
    {
     "data": {
      "text/markdown": [
       "### Simulation: n=5000, $\\lambda$=0.1400, $\\mu$=0.2000, $1/\\lambda$=7.1429, $1/\\mu$=5.0000"
      ],
      "text/plain": [
       "<IPython.core.display.Markdown object>"
      ]
     },
     "metadata": {},
     "output_type": "display_data"
    },
    {
     "name": "stdout",
     "output_type": "stream",
     "text": [
      "Simulation statistics\n",
      "---------------------\n",
      "total_duration          = 35,153.1167\n",
      "arrival_rate_mean       = 0.1424\n",
      "interarrival_time_mean  = 7.0236\n",
      "response_time\n",
      "  mean                  = 18.5964\n",
      "wait_time_mean          = 13.4827\n",
      "service_rate_mean       = 0.1956\n",
      "service_time_mean       = 5.1137\n",
      "utilization             = 0.7273\n"
     ]
    },
    {
     "data": {
      "text/markdown": [
       "### Simulation: n=5000, $\\lambda$=0.1600, $\\mu$=0.2000, $1/\\lambda$=6.2500, $1/\\mu$=5.0000"
      ],
      "text/plain": [
       "<IPython.core.display.Markdown object>"
      ]
     },
     "metadata": {},
     "output_type": "display_data"
    },
    {
     "name": "stdout",
     "output_type": "stream",
     "text": [
      "Simulation statistics\n",
      "---------------------\n",
      "total_duration          = 31,214.3144\n",
      "arrival_rate_mean       = 0.1603\n",
      "interarrival_time_mean  = 6.2364\n",
      "response_time\n",
      "  mean                  = 23.4132\n",
      "wait_time_mean          = 18.4501\n",
      "service_rate_mean       = 0.2015\n",
      "service_time_mean       = 4.9631\n",
      "utilization             = 0.7950\n"
     ]
    },
    {
     "data": {
      "text/markdown": [
       "### Simulation: n=5000, $\\lambda$=0.1800, $\\mu$=0.2000, $1/\\lambda$=5.5556, $1/\\mu$=5.0000"
      ],
      "text/plain": [
       "<IPython.core.display.Markdown object>"
      ]
     },
     "metadata": {},
     "output_type": "display_data"
    },
    {
     "name": "stdout",
     "output_type": "stream",
     "text": [
      "Simulation statistics\n",
      "---------------------\n",
      "total_duration          = 27,612.6356\n",
      "arrival_rate_mean       = 0.1812\n",
      "interarrival_time_mean  = 5.5181\n",
      "response_time\n",
      "  mean                  = 52.3893\n",
      "wait_time_mean          = 47.3454\n",
      "service_rate_mean       = 0.1983\n",
      "service_time_mean       = 5.0438\n",
      "utilization             = 0.9133\n"
     ]
    },
    {
     "data": {
      "image/png": "[encoded data removed]",
      "text/plain": [
       "<Figure size 1400x200 with 1 Axes>"
      ]
     },
     "metadata": {},
     "output_type": "display_data"
    }
   ],
   "source": [
    "##for mu in [64, 32, 18, 16, 15, 12]:\n",
    "run_sim_and_plot(5000, 1/5)"
   ]
  },
  {
   "cell_type": "code",
   "execution_count": null,
   "id": "582e7bfc",
   "metadata": {},
   "outputs": [],
   "source": []
  }
 ],
 "metadata": {
  "kernelspec": {
   "display_name": "Python 3 (ipykernel)",
   "language": "python",
   "name": "python3"
  },
  "language_info": {
   "codemirror_mode": {
    "name": "ipython",
    "version": 3
   },
   "file_extension": ".py",
   "mimetype": "text/x-python",
   "name": "python",
   "nbconvert_exporter": "python",
   "pygments_lexer": "ipython3",
   "version": "3.9.13"
  }
 },
 "nbformat": 4,
 "nbformat_minor": 5
}
