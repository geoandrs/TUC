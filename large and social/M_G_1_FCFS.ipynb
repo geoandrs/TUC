{
 "cells": [
  {
   "cell_type": "code",
   "execution_count": 9,
   "id": "9930a3a3",
   "metadata": {},
   "outputs": [],
   "source": [
    "import numpy as np\n",
    "import pandas as pd\n",
    "import random\n",
    "import matplotlib.pyplot as plt\n",
    "import seaborn as sns\n",
    "from random import randint\n",
    "sns.set()\n",
    "\n",
    "from IPython.display import Markdown"
   ]
  },
  {
   "cell_type": "code",
   "execution_count": 3,
   "id": "165108ad",
   "metadata": {},
   "outputs": [],
   "source": [
    "TITLE_SIZE = 18\n",
    "\n",
    "#seeding\n",
    "rng = np.random.default_rng(42)"
   ]
  },
  {
   "cell_type": "code",
   "execution_count": 25,
   "id": "51b9dae8",
   "metadata": {},
   "outputs": [],
   "source": [
    "# n = number of jobs \n",
    "# μ = mean_service_rate\n",
    "def run_MG1_sim_and_plot(n, small_mean_service_rate, large_mean_service_rate):\n",
    "    \n",
    "    #contains all E[T] from the simulation\n",
    "    sim_mean_response_times = [None] * 9\n",
    "    \n",
    "    #contains all lamdas derived from the simulation\n",
    "    sim_mean_arrival_rates = [None] * 9\n",
    "    \n",
    "    #contains all theoretical E[T]\n",
    "    th_mean_response_times = [None] * 9\n",
    "    \n",
    "    #contains all theoretical lamdas\n",
    "    th_mean_arrival_rates = [None] * 9\n",
    "    \n",
    "    #runs the simulation 9 times with utilization equal to 0.1, 0.2, ... , 0.9\n",
    "    for i in range(1,10):\n",
    "       \n",
    "        lamda = (i/10)/(0.98*(1/small_mean_service_rate) + 0.02*(1/large_mean_service_rate))\n",
    "        \n",
    "         #returns a dictionary with: number of jobs, μ, λ, 1/λ, 1/μ\n",
    "        params = build_MG1_params(n, lamda, small_mean_service_rate, large_mean_service_rate)\n",
    "        #prints the params dictionary using Markdown \n",
    "        display(Markdown(\n",
    "            f\"### Simulation: n={n}, \" +\n",
    "            f\"$\\lambda$={format(params['mean_arrival_rate'])}, \" +\n",
    "            f\"$\\mu_s$={format(params['small_mean_service_rate'])}, \" +\n",
    "            f\"$\\mu_l$={format(params['large_mean_service_rate'])}, \" +\n",
    "            f\"$1/\\lambda$={format(params['mean_interarrival_time'])}, \" +\n",
    "            f\"$1/\\mu_s$={format(params['small_mean_service_time'])}\" +\n",
    "            f\"$1/\\mu_l$={format(params['large_mean_service_time'])}\"\n",
    "\n",
    "        ))\n",
    "        #returns simulation params such as the E[T] and the calculated lamda\n",
    "        result = run_MG1_sim(params)\n",
    "        \n",
    "        sim_mean_response_times[i-1] = result[\"response_time_mean\"]\n",
    "        sim_mean_arrival_rates[i-1] = result[\"mean_arrival_rate\"]\n",
    "        \n",
    "        #E[s]\n",
    "        th_mean_service_time = 0.98*params[\"small_mean_service_time\"] + 0.02*params[\"large_mean_service_time\"]\n",
    "        \n",
    "        #E[s^2]\n",
    "        th_var_service_time = 0.98*pow(params[\"small_mean_service_time\"], 2) + 0.02*pow(params[\"large_mean_service_time\"],2)\n",
    "        \n",
    "        #Ε[Τ] = E[S] + lamda*E[s^2]/(2*(1-ρ))\n",
    "        th_mean_response_times[i-1] = th_mean_service_time + (lamda*th_var_service_time)/(2*(1-(i/10)))\n",
    "        th_mean_arrival_rates[i-1] = lamda\n",
    "       \n",
    "        dump_stats(result)\n",
    "    #plots E[T] as a function of lamda for theoretical and simulated M/M/1's    \n",
    "    plot_MG1_response_per_lamda(sim_mean_response_times, sim_mean_arrival_rates, th_mean_response_times, th_mean_arrival_rates)\n",
    "\n",
    "#builds the param dictionary\n",
    "def build_MG1_params(num_jobs, mean_arrival_rate, small_mean_service_rate, large_mean_service_rate):\n",
    "    return {\n",
    "        \"n\": num_jobs,\n",
    "        \"mean_arrival_rate\": mean_arrival_rate,\n",
    "        \"small_mean_service_rate\": small_mean_service_rate,\n",
    "        \"large_mean_service_rate\": large_mean_service_rate,\n",
    "        \"mean_interarrival_time\": 1.0 / mean_arrival_rate,\n",
    "        \"small_mean_service_time\": 1.0 / small_mean_service_rate,\n",
    "        \"large_mean_service_time\": 1.0 / large_mean_service_rate,\n",
    "    }\n",
    "\n",
    "#generates the jobs and their respective arrival, wait, service times using mean_interarrival_time and μ\n",
    "def run_MG1_sim(params):\n",
    "    #num of jobs\n",
    "    n = params[\"n\"]\n",
    "    \n",
    "    #service times of jobs\n",
    "    service_times = np.zeros(n)\n",
    "    \n",
    "    # Parameters\n",
    "    mean_interarrival_time = params[\"mean_interarrival_time\"]\n",
    "    small_mean_service_time = params[\"small_mean_service_time\"]\n",
    "    large_mean_service_time = params[\"large_mean_service_time\"]\n",
    "    \n",
    "    # Simulation data and results\n",
    "    #generating interarrival times using exponential distribution (scale = 1/λ , where λ the rate of the exponential)\n",
    "    interarrival_times = rng.exponential(scale=mean_interarrival_time, size=n)\n",
    "    #arrival time of each job is the sum of all the previous interarrival times plus it's own interarrival time\n",
    "    arrival_times = np.cumsum(interarrival_times)\n",
    "    count_s = 0\n",
    "    count_l = 0\n",
    "    for i in range(1,n):\n",
    "        p = randint(1,100)\n",
    "        if (p>98):\n",
    "            #service time for large jobs, μ = 1/201\n",
    "            service_times[i] = rng.exponential(scale=large_mean_service_time)\n",
    "            count_l += 1\n",
    "        else:\n",
    "            #service time for small jobs μ=1/1\n",
    "            service_times[i] = rng.exponential(scale=small_mean_service_time)\n",
    "            count_s += 1\n",
    "    #now that we know when every job arrives and how much service time it needs we can find when they exit the queue \"start_time\"\n",
    "    #and when they get serviced and exit the system \"departure time\"\n",
    "    print(\"Large =  \"+ str(count_l) +  \"Small = \"+ str(count_s))\n",
    "    jobs_df = build_jobs_df(params, interarrival_times, arrival_times, service_times)\n",
    "    #total time (secs) needed to service all jobs\n",
    "    total_width = get_total_width(jobs_df)\n",
    "    \n",
    "    sim_mean_interarrival_time = jobs_df[\"interarrival_time\"].mean()\n",
    "    sim_mean_arrival_rate = 1.0 / sim_mean_interarrival_time\n",
    "    sim_mean_service_time = jobs_df[\"service_time\"].mean()\n",
    "    sim_mean_service_rate = 1.0 / sim_mean_service_time\n",
    "    sim_mean_wait_time = jobs_df[\"wait_time\"].mean()\n",
    "    sim_response_time_mean = jobs_df[\"response_time\"].mean()\n",
    "    sim_response_time_var = jobs_df[\"response_time\"].var()\n",
    "    \n",
    "    \n",
    "    \n",
    "    # utilization\n",
    "    util = estimate_util(jobs_df)\n",
    "    \n",
    "    return {\n",
    "        \"params\": params,\n",
    "        \"jobs_df\": jobs_df,\n",
    "        \"total_duration\": total_width,\n",
    "        \"mean_arrival_rate\": sim_mean_arrival_rate,\n",
    "        \"mean_interarrival_time\": sim_mean_interarrival_time,\n",
    "        \"mean_service_rate\": sim_mean_service_rate,\n",
    "        \"mean_service_time\": sim_mean_service_time,\n",
    "        \"mean_wait_time\": sim_mean_wait_time,\n",
    "        \"response_time_mean\": sim_response_time_mean,\n",
    "        \"utilization\": util,\n",
    "    }\n",
    "\n",
    "\n",
    "def build_jobs_df(params, interarrival_times, arrival_times, service_times):    \n",
    "    n = params[\"n\"]\n",
    "    \n",
    "    #jobs dataframe\n",
    "    jobs_df = pd.DataFrame({\n",
    "        \"interarrival_time\": interarrival_times,\n",
    "        \"arrive_time\": arrival_times,\n",
    "        \"service_time\": service_times,\n",
    "        \"start_time\": np.zeros(n),\n",
    "        \"depart_time\": np.zeros(n)\n",
    "    })\n",
    "    \n",
    "    #first job gets serviced upon it's arrival time\n",
    "    jobs_df.loc[0, \"start_time\"] = jobs_df.loc[0, \"arrive_time\"]\n",
    "    #departs after it get's serviced\n",
    "    jobs_df.loc[0, \"depart_time\"] = jobs_df.loc[0, \"start_time\"] + jobs_df.loc[0, \"service_time\"]\n",
    "    \n",
    "    #Every job arrives at the \"Queue\" upon arrival time and gets serviced when all the jobs that are already in queue get serviced\n",
    "    #next job get's serviced upon arrival if queue is empty or when the previous job that is currently being serviced finishes\n",
    "    for i in range(1, n):\n",
    "        jobs_df.loc[i, \"start_time\"] = max(jobs_df.loc[i, \"arrive_time\"], jobs_df.loc[i-1, \"depart_time\"])\n",
    "        jobs_df.loc[i, \"depart_time\"] = jobs_df.loc[i, \"start_time\"] + jobs_df.loc[i, \"service_time\"]\n",
    "    \n",
    "    #response time for each job is equal to queueing time plus service time or the time from when it arrives to the system\n",
    "    #until it gets serviced\n",
    "    jobs_df[\"response_time\"] = jobs_df[\"depart_time\"] - jobs_df[\"arrive_time\"]\n",
    "    jobs_df[\"wait_time\"] = jobs_df[\"start_time\"] - jobs_df[\"arrive_time\"]\n",
    "        \n",
    "    return jobs_df\n",
    "\n",
    "\n",
    "#total time system is active is equal to the time that last job finishes minus the arrival time of the 1st job in the system\n",
    "def get_total_width(jobs_df):\n",
    "    return jobs_df.iloc[-1][\"depart_time\"] - jobs_df.iloc[0][\"arrive_time\"]\n",
    "\n",
    "#calculates utilization of the system: time the system services jobs / total simulation time\n",
    "def estimate_util(jobs_df):\n",
    "    busy = (jobs_df[\"depart_time\"] - jobs_df[\"start_time\"]).sum()\n",
    "    return busy / get_total_width(jobs_df)"
   ]
  },
  {
   "cell_type": "code",
   "execution_count": 5,
   "id": "4cc162cc",
   "metadata": {},
   "outputs": [],
   "source": [
    "# STATS DUMPS\n",
    "\n",
    "def format(value):\n",
    "    return f\"{value:,.4f}\"\n",
    "\n",
    "#prints usefull information\n",
    "def dump_stats(result):\n",
    "    params = result[\"params\"]\n",
    "    jobs_df = result[\"jobs_df\"]\n",
    "    response_time = jobs_df[\"response_time\"]\n",
    "    arrival_rate_mean = result[\"mean_arrival_rate\"]\n",
    "    service_rate_mean = result[\"mean_service_rate\"]\n",
    "    service_time_mean = result[\"mean_service_time\"]\n",
    "    response_time_mean = result[\"response_time_mean\"]\n",
    "    util = result[\"utilization\"]\n",
    "    \n",
    "    print(\"Simulation statistics\")\n",
    "    print(\"---------------------\")\n",
    "    print(\"total_duration          = \" + format(result['total_duration']))\n",
    "    print(\"arrival_rate_mean       = \" + format(arrival_rate_mean))\n",
    "    print(\"interarrival_time_mean  = \" + format(result['mean_interarrival_time']))\n",
    "    # Note: E[response_time] = E[wait_time] + E[service_time]\n",
    "    print(\"response_time\")\n",
    "    print(\"  mean                  = \" + format(response_time_mean))\n",
    "    print(\"wait_time_mean          = \" + format(result['mean_wait_time']))\n",
    "    print(\"service_rate_mean       = \" + format(service_rate_mean))\n",
    "    print(\"service_time_mean       = \" + format(service_time_mean))\n",
    "    print(\"utilization             = \" + format(util))"
   ]
  },
  {
   "cell_type": "code",
   "execution_count": 6,
   "id": "1919af1e",
   "metadata": {},
   "outputs": [],
   "source": [
    "# PLOTTING FUNCTIONS\n",
    "#plots E[T] as a function of lamda for Theoretical and Simulation Values\n",
    "def plot_MG1_response_per_lamda(sim_mean_response_times, sim_mean_arrival_rates, th_mean_response_times, th_mean_arrival_rates):\n",
    "    \n",
    "        \n",
    "    plt.figure(figsize=(14, 2))\n",
    "    plt.title(\"E[T] per Lamda\", size=TITLE_SIZE)\n",
    "    plt.xlabel(\"lamda\")\n",
    "    plt.ylabel(\"E[T]\")\n",
    "    plt.plot(th_mean_arrival_rates, th_mean_response_times, label=\"Theoretical\", color=\"red\")\n",
    "    plt.plot(sim_mean_arrival_rates, sim_mean_response_times, label=\"Simulation\", color=\"blue\")\n",
    "    plt.legend()\n",
    "    plt.show()"
   ]
  },
  {
   "cell_type": "code",
   "execution_count": 27,
   "id": "5aacd360",
   "metadata": {},
   "outputs": [
    {
     "data": {
      "text/markdown": [
       "### Simulation: n=100000, $\\lambda$=0.0200, $\\mu_s$=1.0000, $\\mu_l$=0.0050, $1/\\lambda$=50.0000, $1/\\mu_s$=1.0000$1/\\mu_l$=201.0000"
      ],
      "text/plain": [
       "<IPython.core.display.Markdown object>"
      ]
     },
     "metadata": {},
     "output_type": "display_data"
    },
    {
     "name": "stdout",
     "output_type": "stream",
     "text": [
      "Large =  2033Small = 97967\n",
      "Simulation statistics\n",
      "---------------------\n",
      "total_duration          = 5,027,784.4129\n",
      "arrival_rate_mean       = 0.0199\n",
      "interarrival_time_mean  = 50.2746\n",
      "response_time\n",
      "  mean                  = 22.8113\n",
      "wait_time_mean          = 17.7753\n",
      "service_rate_mean       = 0.1986\n",
      "service_time_mean       = 5.0360\n",
      "utilization             = 0.1002\n"
     ]
    },
    {
     "data": {
      "text/markdown": [
       "### Simulation: n=100000, $\\lambda$=0.0400, $\\mu_s$=1.0000, $\\mu_l$=0.0050, $1/\\lambda$=25.0000, $1/\\mu_s$=1.0000$1/\\mu_l$=201.0000"
      ],
      "text/plain": [
       "<IPython.core.display.Markdown object>"
      ]
     },
     "metadata": {},
     "output_type": "display_data"
    },
    {
     "name": "stdout",
     "output_type": "stream",
     "text": [
      "Large =  1944Small = 98056\n",
      "Simulation statistics\n",
      "---------------------\n",
      "total_duration          = 2,505,800.8803\n",
      "arrival_rate_mean       = 0.0399\n",
      "interarrival_time_mean  = 25.0581\n",
      "response_time\n",
      "  mean                  = 45.2670\n",
      "wait_time_mean          = 40.3346\n",
      "service_rate_mean       = 0.2027\n",
      "service_time_mean       = 4.9325\n",
      "utilization             = 0.1968\n"
     ]
    },
    {
     "data": {
      "text/markdown": [
       "### Simulation: n=100000, $\\lambda$=0.0600, $\\mu_s$=1.0000, $\\mu_l$=0.0050, $1/\\lambda$=16.6667, $1/\\mu_s$=1.0000$1/\\mu_l$=201.0000"
      ],
      "text/plain": [
       "<IPython.core.display.Markdown object>"
      ]
     },
     "metadata": {},
     "output_type": "display_data"
    },
    {
     "name": "stdout",
     "output_type": "stream",
     "text": [
      "Large =  2022Small = 97978\n",
      "Simulation statistics\n",
      "---------------------\n",
      "total_duration          = 1,664,622.2094\n",
      "arrival_rate_mean       = 0.0601\n",
      "interarrival_time_mean  = 16.6432\n",
      "response_time\n",
      "  mean                  = 70.0459\n",
      "wait_time_mean          = 65.0114\n",
      "service_rate_mean       = 0.1986\n",
      "service_time_mean       = 5.0345\n",
      "utilization             = 0.3024\n"
     ]
    },
    {
     "data": {
      "text/markdown": [
       "### Simulation: n=100000, $\\lambda$=0.0800, $\\mu_s$=1.0000, $\\mu_l$=0.0050, $1/\\lambda$=12.5000, $1/\\mu_s$=1.0000$1/\\mu_l$=201.0000"
      ],
      "text/plain": [
       "<IPython.core.display.Markdown object>"
      ]
     },
     "metadata": {},
     "output_type": "display_data"
    },
    {
     "name": "stdout",
     "output_type": "stream",
     "text": [
      "Large =  1981Small = 98019\n",
      "Simulation statistics\n",
      "---------------------\n",
      "total_duration          = 1,248,462.9331\n",
      "arrival_rate_mean       = 0.0801\n",
      "interarrival_time_mean  = 12.4846\n",
      "response_time\n",
      "  mean                  = 117.6778\n",
      "wait_time_mean          = 112.6884\n",
      "service_rate_mean       = 0.2004\n",
      "service_time_mean       = 4.9894\n",
      "utilization             = 0.3996\n"
     ]
    },
    {
     "data": {
      "text/markdown": [
       "### Simulation: n=100000, $\\lambda$=0.1000, $\\mu_s$=1.0000, $\\mu_l$=0.0050, $1/\\lambda$=10.0000, $1/\\mu_s$=1.0000$1/\\mu_l$=201.0000"
      ],
      "text/plain": [
       "<IPython.core.display.Markdown object>"
      ]
     },
     "metadata": {},
     "output_type": "display_data"
    },
    {
     "name": "stdout",
     "output_type": "stream",
     "text": [
      "Large =  1891Small = 98109\n",
      "Simulation statistics\n",
      "---------------------\n",
      "total_duration          = 1,000,338.5130\n",
      "arrival_rate_mean       = 0.1000\n",
      "interarrival_time_mean  = 10.0035\n",
      "response_time\n",
      "  mean                  = 139.2765\n",
      "wait_time_mean          = 134.5396\n",
      "service_rate_mean       = 0.2111\n",
      "service_time_mean       = 4.7370\n",
      "utilization             = 0.4735\n"
     ]
    },
    {
     "data": {
      "text/markdown": [
       "### Simulation: n=100000, $\\lambda$=0.1200, $\\mu_s$=1.0000, $\\mu_l$=0.0050, $1/\\lambda$=8.3333, $1/\\mu_s$=1.0000$1/\\mu_l$=201.0000"
      ],
      "text/plain": [
       "<IPython.core.display.Markdown object>"
      ]
     },
     "metadata": {},
     "output_type": "display_data"
    },
    {
     "name": "stdout",
     "output_type": "stream",
     "text": [
      "Large =  2036Small = 97964\n",
      "Simulation statistics\n",
      "---------------------\n",
      "total_duration          = 834,791.0622\n",
      "arrival_rate_mean       = 0.1198\n",
      "interarrival_time_mean  = 8.3481\n",
      "response_time\n",
      "  mean                  = 308.9786\n",
      "wait_time_mean          = 303.8149\n",
      "service_rate_mean       = 0.1937\n",
      "service_time_mean       = 5.1637\n",
      "utilization             = 0.6186\n"
     ]
    },
    {
     "data": {
      "text/markdown": [
       "### Simulation: n=100000, $\\lambda$=0.1400, $\\mu_s$=1.0000, $\\mu_l$=0.0050, $1/\\lambda$=7.1429, $1/\\mu_s$=1.0000$1/\\mu_l$=201.0000"
      ],
      "text/plain": [
       "<IPython.core.display.Markdown object>"
      ]
     },
     "metadata": {},
     "output_type": "display_data"
    },
    {
     "name": "stdout",
     "output_type": "stream",
     "text": [
      "Large =  1995Small = 98005\n",
      "Simulation statistics\n",
      "---------------------\n",
      "total_duration          = 713,811.8433\n",
      "arrival_rate_mean       = 0.1401\n",
      "interarrival_time_mean  = 7.1379\n",
      "response_time\n",
      "  mean                  = 404.5407\n",
      "wait_time_mean          = 399.5918\n",
      "service_rate_mean       = 0.2021\n",
      "service_time_mean       = 4.9489\n",
      "utilization             = 0.6933\n"
     ]
    },
    {
     "data": {
      "text/markdown": [
       "### Simulation: n=100000, $\\lambda$=0.1600, $\\mu_s$=1.0000, $\\mu_l$=0.0050, $1/\\lambda$=6.2500, $1/\\mu_s$=1.0000$1/\\mu_l$=201.0000"
      ],
      "text/plain": [
       "<IPython.core.display.Markdown object>"
      ]
     },
     "metadata": {},
     "output_type": "display_data"
    },
    {
     "name": "stdout",
     "output_type": "stream",
     "text": [
      "Large =  1973Small = 98027\n",
      "Simulation statistics\n",
      "---------------------\n",
      "total_duration          = 625,265.4026\n",
      "arrival_rate_mean       = 0.1599\n",
      "interarrival_time_mean  = 6.2528\n",
      "response_time\n",
      "  mean                  = 798.1620\n",
      "wait_time_mean          = 792.9774\n",
      "service_rate_mean       = 0.1929\n",
      "service_time_mean       = 5.1846\n",
      "utilization             = 0.8292\n"
     ]
    },
    {
     "data": {
      "text/markdown": [
       "### Simulation: n=100000, $\\lambda$=0.1800, $\\mu_s$=1.0000, $\\mu_l$=0.0050, $1/\\lambda$=5.5556, $1/\\mu_s$=1.0000$1/\\mu_l$=201.0000"
      ],
      "text/plain": [
       "<IPython.core.display.Markdown object>"
      ]
     },
     "metadata": {},
     "output_type": "display_data"
    },
    {
     "name": "stdout",
     "output_type": "stream",
     "text": [
      "Large =  2031Small = 97969\n",
      "Simulation statistics\n",
      "---------------------\n",
      "total_duration          = 555,198.3404\n",
      "arrival_rate_mean       = 0.1807\n",
      "interarrival_time_mean  = 5.5329\n",
      "response_time\n",
      "  mean                  = 1,880.3777\n",
      "wait_time_mean          = 1,875.2436\n",
      "service_rate_mean       = 0.1948\n",
      "service_time_mean       = 5.1341\n",
      "utilization             = 0.9247\n"
     ]
    },
    {
     "data": {
      "image/png": "[encoded data removed]",
      "text/plain": [
       "<Figure size 1400x200 with 1 Axes>"
      ]
     },
     "metadata": {},
     "output_type": "display_data"
    }
   ],
   "source": [
    "#M/G/1 : 98% service time = 1 sec, 2% service time = 201 secs\n",
    "run_MG1_sim_and_plot(100000, 1, 1/201)"
   ]
  }
 ],
 "metadata": {
  "kernelspec": {
   "display_name": "Python 3 (ipykernel)",
   "language": "python",
   "name": "python3"
  },
  "language_info": {
   "codemirror_mode": {
    "name": "ipython",
    "version": 3
   },
   "file_extension": ".py",
   "mimetype": "text/x-python",
   "name": "python",
   "nbconvert_exporter": "python",
   "pygments_lexer": "ipython3",
   "version": "3.9.13"
  }
 },
 "nbformat": 4,
 "nbformat_minor": 5
}
